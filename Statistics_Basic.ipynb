{
  "nbformat": 4,
  "nbformat_minor": 0,
  "metadata": {
    "colab": {
      "provenance": []
    },
    "kernelspec": {
      "name": "python3",
      "display_name": "Python 3"
    },
    "language_info": {
      "name": "python"
    }
  },
  "cells": [
    {
      "cell_type": "markdown",
      "source": [
        "Theortical Questions\n",
        "1. What is statistics, and why is it important?\n",
        "- Statistics is the study of collecting, analyzing, and interpreting data.\n",
        "It helps in making informed decisions using data patterns.\n",
        "It's used in science, business, health, and research.\n",
        "\n",
        "2. What are the two main types of statistics?\n",
        "\n",
        "- Descriptive Statistics\n",
        "- Inferential Statistics\n",
        "- Descriptive summarizes data, while inferential draws conclusions from data.\n",
        "\n",
        "3. What are descriptive statistics?\n",
        "- Descriptive statistics describe and summarize data.\n",
        "They include measures like mean, median, and mode.\n",
        "Used to present raw data in a meaningful form.\n",
        "\n",
        "4. What is inferential statistics?\n",
        "- Inferential statistics make predictions about a population from a sample.\n",
        "It uses tools like hypothesis testing and confidence intervals.\n",
        "Common in research and surveys.\n",
        "\n",
        "5. What is sampling in statistics?\n",
        "- Sampling is the process of selecting a subset from a population.\n",
        "It makes data collection easier and faster.\n",
        "Used when studying the whole population isn't possible.\n",
        "\n",
        "6. What are the different types of sampling methods?\n",
        "- Simple random, stratified, cluster, systematic, and convenience sampling.\n",
        "Each method has different rules for selecting data.\n",
        "Choice depends on data type and goal.\n",
        "\n",
        "7. What is the difference between random and non-random sampling?\n",
        "- Random sampling gives all items equal chance of selection.\n",
        "Non-random sampling relies on convenience or judgment.\n",
        "Random is more reliable and unbiased.\n",
        "\n",
        "8. Define and give examples of qualitative and quantitative data.\n",
        "- Qualitative data describes categories (e.g., colors, gender).\n",
        "Quantitative data uses numbers (e.g., height, weight).\n",
        "One is non-numerical, the other is numerical.\n",
        "\n",
        "9. What are the different types of data in statistics?\n",
        "- Nominal, ordinal, interval, and ratio data.\n",
        "They differ by order, spacing, and presence of true zero.\n",
        "Used to decide statistical methods.\n",
        "\n",
        "10. Explain nominal, ordinal, interval, and ratio levels of measurement.\n",
        "- Nominal: categories (e.g., colors), Ordinal: order (e.g., ranks).\n",
        "Interval: equal gaps, no true zero (e.g., temperature).\n",
        "Ratio: like interval but with true zero (e.g., age, weight).\n",
        "\n",
        "11. What is the measure of central tendency?\n",
        "- It indicates the center or average of a dataset.\n",
        "Main types are mean, median, and mode.\n",
        "Used to summarize large data with a single value.\n",
        "\n",
        "12. Define mean, median, and mode.\n",
        "- Mean: average of all values.\n",
        "Median: middle value when data is ordered.\n",
        "Mode: most frequent value in the dataset.\n",
        "\n",
        "13. What is the significance of the measure of central tendency?\n",
        "- It helps in understanding the typical or central value of data.\n",
        "Useful in comparing and analyzing data distributions.\n",
        "Common in business, education, and economics.\n",
        "\n",
        "14. What is variance, and how is it calculated?\n",
        "- Variance measures how much data values spread from the mean.\n",
        "Calculated as the average of squared deviations from the mean.\n",
        "High variance means data is widely spread.\n",
        "\n",
        "15. What is standard deviation, and why is it important?\n",
        "- Standard deviation shows how spread out values are from the mean.\n",
        "It’s the square root of variance.\n",
        "Used to understand data consistency and risk.\n",
        "\n",
        "16. Define and explain the term range in statistics.\n",
        "- Range is the difference between the highest and lowest values.\n",
        "It gives a basic idea of data spread.\n",
        "Easy to calculate but affected by outliers.\n",
        "\n",
        "17. What is the difference between variance and standard deviation?\n",
        "- Variance is the average of squared differences from the mean.\n",
        "Standard deviation is the square root of variance.\n",
        "Both show data spread, but in different units.\n",
        "\n",
        "18. What is skewness in a dataset?\n",
        "- Skewness measures the asymmetry of a data distribution.\n",
        "A perfectly symmetrical distribution has zero skewness.\n",
        "Skewness can be positive or negative.\n",
        "\n",
        "19. What does it mean if a dataset is positively or negatively skewed?\n",
        "- Positive skew: tail on the right, mean > median.\n",
        "Negative skew: tail on the left, mean < median.\n",
        "It shows data is not evenly distributed.\n",
        "\n",
        "20. Define and explain kurtosis.\n",
        "- Kurtosis measures the \"tailedness\" of a distribution.\n",
        "High kurtosis = heavy tails, more outliers.\n",
        "Low kurtosis = light tails, fewer outliers.\n",
        "\n",
        "21. What is the purpose of covariance?\n",
        "- Covariance shows how two variables vary together.\n",
        "Positive covariance = both variables increase together.\n",
        "It indicates the direction of the relationship.\n",
        "\n",
        "22. What does correlation measure in statistics?\n",
        "- Correlation measures the strength and direction of a relationship.\n",
        "It ranges from -1 to +1.\n",
        "Stronger correlation means better prediction.\n",
        "\n",
        "23. What is the difference between covariance and correlation?\n",
        "- Covariance measures direction of relation, but not strength.\n",
        "Correlation standardizes covariance between -1 and +1.\n",
        "Correlation is easier to interpret.\n",
        "\n",
        "24. What are some real-world applications of statistics?\n",
        "- Used in healthcare (clinical trials), business (sales analysis), and government (census).\n",
        "Also applied in education, sports, and weather forecasting.\n",
        "Helps in making data-driven decisions everywhere."
      ],
      "metadata": {
        "id": "d7VxJ_a9qCmj"
      }
    },
    {
      "cell_type": "code",
      "source": [
        "#Pracical Questions\n",
        "#1. How do you calculate the mean, median, and mode of a dataset\n",
        "import numpy as np\n",
        "data=[4,1,3,7,5]\n",
        "mean=np.mean(data)\n",
        "median=np.median(data)\n",
        "mode=np.argmax(np.bincount(data))\n",
        "print(f\"Mean = {mean}\\nMedian = {median}\\nMode = {mode}\")"
      ],
      "metadata": {
        "colab": {
          "base_uri": "https://localhost:8080/"
        },
        "id": "wUR8eclXupl9",
        "outputId": "925a9868-e9a1-43ff-d459-7226f69e2f59"
      },
      "execution_count": null,
      "outputs": [
        {
          "output_type": "stream",
          "name": "stdout",
          "text": [
            "Mean = 4.0\n",
            "Median = 4.0\n",
            "Mode = 1\n"
          ]
        }
      ]
    },
    {
      "cell_type": "code",
      "source": [
        "#2. Write a Python program to compute the variance and standard deviation of a dataset?\n",
        "import statistics as stat\n",
        "data=[4,1,3,7,5]\n",
        "variance=stat.variance(data)\n",
        "std_dev=stat.stdev(data)\n",
        "print(f\"Variance = {variance}\\nStandard Deviation = {std_dev}\")"
      ],
      "metadata": {
        "id": "_jetH7MHvDPE",
        "colab": {
          "base_uri": "https://localhost:8080/"
        },
        "outputId": "b9e0769c-5d3d-4f45-a598-d534e4327f87"
      },
      "execution_count": null,
      "outputs": [
        {
          "output_type": "stream",
          "name": "stdout",
          "text": [
            "Variance = 5\n",
            "Standard Deviation = 2.23606797749979\n"
          ]
        }
      ]
    },
    {
      "cell_type": "code",
      "source": [
        "#3. Create a dataset and classify it into nominal, ordinal, interval, and ratio types\n",
        "import pandas as pd\n",
        "df=pd.DataFrame({'Name':['Ankit', 'Priya', 'Rahul', 'Sneha'],\n",
        "                 'Age':[25, 30, 22, 28],\n",
        "                 'Gender':['Male', 'Female', 'Male', 'Female'],\n",
        "                 'Height':[175, 160, 180, 165],\n",
        "                 'Exam Score': ['A', 'B', 'A+', 'C'],\n",
        "                 'Temperature': [36.5, 37.2, 38.0, 36.8]\n",
        "                 })\n",
        "print(df)\n",
        "\n",
        "# Column Data              Type\t              Explanation\n",
        "# Name, Gender\t          Nominal\t            Categories with no order (e.g., Male/Female, Names)\n",
        "# Grade Level (A, B, C)   Ordinal\t            Ordered categories (A > B > C), but differences not equal\n",
        "# Temperature (°C)\t      Interval\t          Numeric scale with equal intervals but no true zero\n",
        "# Exam Score\\ Height\t    Ratio\t              Numeric data with equal intervals and a true zero point\n",
        "\n"
      ],
      "metadata": {
        "id": "_9Gy69_3KvZt"
      },
      "execution_count": null,
      "outputs": []
    },
    {
      "cell_type": "code",
      "source": [
        "#4. Implement sampling techniques like random sampling and stratified sampling.\n",
        "import numpy as np\n",
        "import pandas as pd\n",
        "from sklearn.model_selection import train_test_split\n",
        "# Create a dataset\n",
        "data = pd.DataFrame({\n",
        "    'Name': ['Alice', 'Bob', 'Charlie', 'David', 'Eve', 'Frank', 'Grace', 'Hannah'],\n",
        "    'Age': [25, 30, 22, 28, 35, 27, 32, 29],\n",
        "    'Gender': ['Female', 'Male', 'Male', 'Male', 'Female', 'Male', 'Female', 'Female'],\n",
        "    'Grade': ['A', 'B', 'C', 'A', 'B', 'A', 'B', 'C']})\n",
        "\n",
        "#RAndom Sampling\n",
        "random_sample = data.sample(n=3, random_state=42)\n",
        "print(\"Random Sample:\")\n",
        "print(random_sample)\n",
        "\n",
        "#Stratified Sampling\n",
        "_, stratified_sample = train_test_split(data, test_size=0.3, stratify=data['Grade'], random_state=42)\n",
        "print(\"\\nStratified Sample:\")\n",
        "print(stratified_sample)"
      ],
      "metadata": {
        "colab": {
          "base_uri": "https://localhost:8080/"
        },
        "id": "mDun386Ki47r",
        "outputId": "83168311-90ec-4396-de5e-07f82289ece5"
      },
      "execution_count": null,
      "outputs": [
        {
          "output_type": "stream",
          "name": "stdout",
          "text": [
            "Random Sample:\n",
            "    Name  Age  Gender Grade\n",
            "1    Bob   30    Male     B\n",
            "5  Frank   27    Male     A\n",
            "0  Alice   25  Female     A\n",
            "\n",
            "Stratified Sample:\n",
            "      Name  Age  Gender Grade\n",
            "6    Grace   32  Female     B\n",
            "0    Alice   25  Female     A\n",
            "2  Charlie   22    Male     C\n"
          ]
        }
      ]
    },
    {
      "cell_type": "code",
      "source": [
        "#5. Write a Python function to calculate the range of a dataset.\n",
        "import numpy as np\n",
        "data=[4,1,3,7,5]\n",
        "range=np.max(data)-np.min(data)\n",
        "print(f\"Range = {range}\")"
      ],
      "metadata": {
        "colab": {
          "base_uri": "https://localhost:8080/"
        },
        "id": "I7cuBY4hjsH6",
        "outputId": "c94daebf-268d-4083-a22b-d49031650e3c"
      },
      "execution_count": null,
      "outputs": [
        {
          "output_type": "stream",
          "name": "stdout",
          "text": [
            "Range = 6\n"
          ]
        }
      ]
    },
    {
      "cell_type": "code",
      "source": [
        "#6. Create a dataset and plot its histogram to visualize skewness.\n",
        "import matplotlib.pyplot as plt\n",
        "import numpy as np\n",
        "Scores = [45, 47, 49, 52, 55, 58, 60, 62, 63, 64, 65, 67, 68, 70, 72, 73, 74, 75, 85, 95]\n",
        "plt.hist(Scores, bins=8)\n",
        "plt.xlabel('Scores')\n",
        "plt.ylabel('Frequency')\n",
        "plt.title('Histogram of Scores')\n",
        "plt.show()"
      ],
      "metadata": {
        "colab": {
          "base_uri": "https://localhost:8080/",
          "height": 472
        },
        "id": "Wn7Te1rBm3X4",
        "outputId": "83891628-2227-4dc9-de54-a28dbc16fd5d"
      },
      "execution_count": null,
      "outputs": [
        {
          "output_type": "display_data",
          "data": {
            "text/plain": [
              "<Figure size 640x480 with 1 Axes>"
            ],
            "image/png": "[encoded data removed]"
          },
          "metadata": {}
        }
      ]
    },
    {
      "cell_type": "code",
      "source": [
        "#7. Calculate skewness and kurtosis of a dataset using Python libraries.\n",
        "import numpy as np\n",
        "import scipy.stats as stats\n",
        "scores = [45, 47, 49, 52, 55, 58, 60, 62, 63, 64, 65, 67, 68, 70, 72, 73, 74, 75, 85, 95]\n",
        "skewness = stats.skew(scores)\n",
        "kurtosis = stats.kurtosis(scores)\n",
        "print(f\"Skewness: {skewness}\")\n",
        "print(f\"Kurtosis: {kurtosis}\")"
      ],
      "metadata": {
        "colab": {
          "base_uri": "https://localhost:8080/"
        },
        "id": "Lnb-3OG5nImG",
        "outputId": "f746e902-ea02-43e7-e4e9-b80491a61159"
      },
      "execution_count": null,
      "outputs": [
        {
          "output_type": "stream",
          "name": "stdout",
          "text": [
            "Skewness: 0.4578044948828199\n",
            "Kurtosis: 0.10674239812872077\n"
          ]
        }
      ]
    },
    {
      "cell_type": "code",
      "source": [
        "#8. Generate a dataset and demonstrate positive and negative skewness.\n",
        "import matplotlib.pyplot as plt\n",
        "\n",
        "positive_skew = [30, 32, 35, 36, 38, 39, 40, 41, 43, 45, 47, 50, 60, 75, 90]\n",
        "negative_skew = [10, 25, 40, 50, 55, 57, 58, 59, 60, 61, 62, 63, 64, 65, 66]\n",
        "\n",
        "plt.figure(figsize=(12, 5))\n",
        "\n",
        "# Positive Skewness\n",
        "plt.subplot(1, 2, 1)\n",
        "plt.hist(positive_skew, bins=8, color='skyblue', edgecolor='black')\n",
        "plt.title('Positive Skewness')\n",
        "plt.xlabel('Value')\n",
        "plt.ylabel('Frequency')\n",
        "\n",
        "# Negative Skewness\n",
        "plt.subplot(1, 2, 2)\n",
        "plt.hist(negative_skew, bins=8, color='lightcoral', edgecolor='black')\n",
        "plt.title('Negative Skewness')\n",
        "plt.xlabel('Value')\n",
        "plt.ylabel('Frequency')\n",
        "\n",
        "plt.tight_layout()\n",
        "plt.show()\n"
      ],
      "metadata": {
        "colab": {
          "base_uri": "https://localhost:8080/",
          "height": 507
        },
        "id": "CJ1FwUYkoJsY",
        "outputId": "ae67e068-f1bb-40dd-eaca-01502e67dfda"
      },
      "execution_count": null,
      "outputs": [
        {
          "output_type": "display_data",
          "data": {
            "text/plain": [
              "<Figure size 1200x500 with 2 Axes>"
            ],
            "image/png": "[encoded data removed]"
          },
          "metadata": {}
        }
      ]
    },
    {
      "cell_type": "code",
      "source": [
        "#9. Write a Python script to calculate covariance between two datasets.\n",
        "import numpy as np\n",
        "import statistics as stat\n",
        "data1=[30, 32, 35, 36, 38, 39, 40, 41, 43, 45, 47, 50, 60, 75, 90]\n",
        "data2 = [10, 25, 40, 50, 55, 57, 58, 59, 60, 61, 62, 63, 64, 65, 66]\n",
        "print(\"Covariance: \", stat.covariance(data1, data2))"
      ],
      "metadata": {
        "colab": {
          "base_uri": "https://localhost:8080/"
        },
        "id": "HB8yY2s4oo0l",
        "outputId": "d725db75-6765-471e-a929-f19a11912ce0"
      },
      "execution_count": null,
      "outputs": [
        {
          "output_type": "stream",
          "name": "stdout",
          "text": [
            "Covariance:  160.21428571428572\n"
          ]
        }
      ]
    },
    {
      "cell_type": "code",
      "source": [
        "#10. Write a Python script to calculate the correlation coefficient between two datasets.\n",
        "import numpy as np\n",
        "import statistics as stat\n",
        "data1=[30, 32, 35, 36, 38, 39, 40, 41, 43, 45, 47, 50, 60, 75, 90]\n",
        "data2 = [10, 25, 40, 50, 55, 57, 58, 59, 60, 61, 62, 63, 64, 65, 66]\n",
        "print(\"Correlation: \", stat.correlation(data1, data2))"
      ],
      "metadata": {
        "colab": {
          "base_uri": "https://localhost:8080/"
        },
        "id": "eHiplIdgpmEl",
        "outputId": "ef36688f-efe8-4868-c68d-8934b3308e8a"
      },
      "execution_count": null,
      "outputs": [
        {
          "output_type": "stream",
          "name": "stdout",
          "text": [
            "Correlation:  0.6016857183734295\n"
          ]
        }
      ]
    },
    {
      "cell_type": "code",
      "source": [
        "#11. Create a scatter plot to visualize the relationship between two variables.\n",
        "import numpy as np\n",
        "import matplotlib.pyplot as plt\n",
        "x = np.array([1, 2, 3, 4, 5])\n",
        "y = np.array([2, 4, 6, 8, 10])\n",
        "plt.scatter(x, y)\n",
        "plt.xlabel('X-axis')\n",
        "plt.ylabel('Y-axis')\n",
        "plt.title('Scatter Plot')\n",
        "plt.show()"
      ],
      "metadata": {
        "colab": {
          "base_uri": "https://localhost:8080/",
          "height": 472
        },
        "id": "ebQ12zGlp0Lt",
        "outputId": "0047fc54-593c-44f6-ad6e-59c16aee2b13"
      },
      "execution_count": null,
      "outputs": [
        {
          "output_type": "display_data",
          "data": {
            "text/plain": [
              "<Figure size 640x480 with 1 Axes>"
            ],
            "image/png": "[encoded data removed]"
          },
          "metadata": {}
        }
      ]
    },
    {
      "cell_type": "code",
      "source": [
        "#12. Implement and compare simple random sampling and systematic sampling.\n",
        "import numpy as np\n",
        "import random\n",
        "import pandas as pd\n",
        "data = pd.DataFrame({'Student_ID': range(1, 31),\n",
        "                     'Marks': np.random.randint(40, 100, 30)})\n",
        "random_sample = data.sample(n=5, random_state=42)\n",
        "print(\"Random Sample:\", random_sample)\n",
        "\n",
        "systematic_sample = data.iloc[::5]\n",
        "print(\"\\nSystematic Sample:\", systematic_sample)"
      ],
      "metadata": {
        "colab": {
          "base_uri": "https://localhost:8080/"
        },
        "id": "iZfj11XiWtG-",
        "outputId": "f0c6c3b3-44af-4a9b-dbe2-c487e4be1da0"
      },
      "execution_count": 1,
      "outputs": [
        {
          "output_type": "stream",
          "name": "stdout",
          "text": [
            "Random Sample:     Student_ID  Marks\n",
            "27          28     48\n",
            "15          16     75\n",
            "23          24     58\n",
            "17          18     57\n",
            "8            9     57\n",
            "\n",
            "Systematic Sample:     Student_ID  Marks\n",
            "0            1     53\n",
            "5            6     69\n",
            "10          11     68\n",
            "15          16     75\n",
            "20          21     69\n",
            "25          26     41\n"
          ]
        }
      ]
    },
    {
      "cell_type": "code",
      "source": [
        "#14. Simulate data using Python and calculate its central tendency and dispersion.\n",
        "import numpy as np\n",
        "import pandas as pd\n",
        "data = pd.DataFrame({'Student_ID': range(1, 31),\n",
        "                     'Marks': np.random.randint(40, 100, 30)})\n",
        "\n",
        "#Central Tendency\n",
        "mean_marks = data['Marks'].mean()\n",
        "median_marks = data['Marks'].median()\n",
        "mode_marks = data['Marks'].mode()\n",
        "\n",
        "print(\"Central Tendency:\")\n",
        "print(\"Mean:\", mean_marks)\n",
        "print(\"Median:\", median_marks)\n",
        "print(\"Mode:\\n\", mode_marks)\n",
        "\n",
        "#Dispersion\n",
        "variance_marks = data['Marks'].var()\n",
        "std_dev_marks = data['Marks'].std()\n",
        "\n",
        "print(\"\\nDispersion:\")\n",
        "print(\"Variance:\", variance_marks)\n",
        "print(\"Standard Deviation:\", std_dev_marks)\n"
      ],
      "metadata": {
        "colab": {
          "base_uri": "https://localhost:8080/"
        },
        "id": "j0S3UNcIaNNs",
        "outputId": "beae98e3-9b01-44ee-86f2-421d839d5cc3"
      },
      "execution_count": 6,
      "outputs": [
        {
          "output_type": "stream",
          "name": "stdout",
          "text": [
            "Central Tendency:\n",
            "Mean: 69.4\n",
            "Median: 72.0\n",
            "Mode:\n",
            " 0    46\n",
            "1    53\n",
            "2    72\n",
            "3    78\n",
            "4    92\n",
            "5    93\n",
            "Name: Marks, dtype: int64\n",
            "\n",
            "Dispersion:\n",
            "Variance: 250.66206896551714\n",
            "Standard Deviation: 15.832310916777661\n"
          ]
        }
      ]
    },
    {
      "cell_type": "code",
      "source": [
        "#15. Use NumPy or pandas to summarize a dataset’s descriptive statistics.\n",
        "import numpy as np\n",
        "import pandas as pd\n",
        "data = pd.DataFrame({'Student_ID': range(1, 31),\n",
        "                     'Marks': np.random.randint(40, 100, 30)})\n",
        "print(data.describe())"
      ],
      "metadata": {
        "colab": {
          "base_uri": "https://localhost:8080/"
        },
        "id": "XPRBqiRPcYI6",
        "outputId": "7e04d943-98dc-4958-9e61-7c5d46864336"
      },
      "execution_count": 7,
      "outputs": [
        {
          "output_type": "stream",
          "name": "stdout",
          "text": [
            "       Student_ID      Marks\n",
            "count   30.000000  30.000000\n",
            "mean    15.500000  74.533333\n",
            "std      8.803408  18.369265\n",
            "min      1.000000  41.000000\n",
            "25%      8.250000  60.500000\n",
            "50%     15.500000  74.000000\n",
            "75%     22.750000  93.750000\n",
            "max     30.000000  99.000000\n"
          ]
        }
      ]
    },
    {
      "cell_type": "code",
      "source": [
        "#16. Plot a boxplot to understand the spread and identify outliers.\n",
        "import numpy as np\n",
        "import matplotlib.pyplot as plt\n",
        "data = [10, 15, 12, 18, 20, 25, 45]\n",
        "plt.boxplot(data)\n",
        "plt.show()\n",
        ""
      ],
      "metadata": {
        "colab": {
          "base_uri": "https://localhost:8080/",
          "height": 430
        },
        "id": "JFNceededDnp",
        "outputId": "92f5279c-5f30-47cb-9bbc-4866a16773ed"
      },
      "execution_count": 8,
      "outputs": [
        {
          "output_type": "display_data",
          "data": {
            "text/plain": [
              "<Figure size 640x480 with 1 Axes>"
            ],
            "image/png": "[encoded data removed]"
          },
          "metadata": {}
        }
      ]
    },
    {
      "cell_type": "code",
      "source": [
        "#17. Calculate the interquartile range (IQR) of a dataset.\n",
        "import numpy as np\n",
        "import pandas as pd\n",
        "data = pd.DataFrame({'Student_ID': range(1, 31),\n",
        "                     'Marks': np.random.randint(40, 100, 30)})\n",
        "q1 = data['Marks'].quantile(0.25)\n",
        "q3 = data['Marks'].quantile(0.75)\n",
        "iqr = q3 - q1\n",
        "print(\"Interquartile Range (IQR):\", iqr)"
      ],
      "metadata": {
        "colab": {
          "base_uri": "https://localhost:8080/"
        },
        "id": "mXASscUSdrve",
        "outputId": "ea9d2747-a8d1-4875-fd89-2a20d9111d15"
      },
      "execution_count": 9,
      "outputs": [
        {
          "output_type": "stream",
          "name": "stdout",
          "text": [
            "Interquartile Range (IQR): 23.0\n"
          ]
        }
      ]
    },
    {
      "cell_type": "code",
      "source": [
        "#18. Implement Z-score normalization and explain its significance.\n",
        "import numpy as np\n",
        "import pandas as pd\n",
        "data = pd.DataFrame({'Student_ID': range(1, 31),\n",
        "                     'Marks': np.random.randint(40, 100, 30)})\n",
        "mean_marks = data['Marks'].mean()\n",
        "std_dev_marks = data['Marks'].std()\n",
        "data['Z_Score'] = (data['Marks'] - mean_marks) / std_dev_marks\n",
        "print(data)"
      ],
      "metadata": {
        "id": "wsPZnsXzeEkg"
      },
      "execution_count": null,
      "outputs": []
    },
    {
      "cell_type": "code",
      "source": [
        "#19. Compare two datasets using their standard deviations.\n",
        "import numpy as np\n",
        "import pandas as pd\n",
        "data1 = pd.DataFrame({'Student_ID': range(1, 31),\n",
        "                      'Marks': np.random.randint(40, 100, 30)})\n",
        "data2 = pd.DataFrame({'Student_ID': range(1, 31),\n",
        "                      'Marks': np.random.randint(40, 100, 30)})\n",
        "std_dev1 = data1['Marks'].std()\n",
        "std_dev2 = data2['Marks'].std()\n",
        "if std_dev1 > std_dev2:\n",
        "    print(\"Data 1 has higher standard deviation.\")\n",
        "    print(f\"Standard Deviation of Data 1: {std_dev1}\")\n",
        "    print(f\"Standard Deviation of Data 2: {std_dev2}\")\n",
        ""
      ],
      "metadata": {
        "colab": {
          "base_uri": "https://localhost:8080/"
        },
        "id": "h2oG25YIf_RW",
        "outputId": "b0d9aa75-13a8-485b-fc25-b71179c55899"
      },
      "execution_count": 10,
      "outputs": [
        {
          "output_type": "stream",
          "name": "stdout",
          "text": [
            "Data 1 has higher standard deviation.\n",
            "Standard Deviation of Data 1: 16.380672659619606\n",
            "Standard Deviation of Data 2: 15.901275883168736\n"
          ]
        }
      ]
    },
    {
      "cell_type": "code",
      "source": [
        "#20. Write a Python program to visualize covariance using a heatmap.\n",
        "import seaborn as sns\n",
        "import matplotlib.pyplot as plt\n",
        "import pandas as pd\n",
        "data = pd.DataFrame({'Student_ID': range(1, 31),\n",
        "                     'Marks': np.random.randint(40, 100, 30),\n",
        "                     'Age': np.random.randint(18, 25, 30)})\n",
        "sns.heatmap(data.cov(), annot=True, cmap='cool')\n",
        "plt.title('Covariance Heatmap')\n",
        "plt.show()"
      ],
      "metadata": {
        "colab": {
          "base_uri": "https://localhost:8080/",
          "height": 452
        },
        "id": "sIn_BA0PhFwT",
        "outputId": "f69416ca-a5e6-4e11-ebae-29dd478411f4"
      },
      "execution_count": 11,
      "outputs": [
        {
          "output_type": "display_data",
          "data": {
            "text/plain": [
              "<Figure size 640x480 with 2 Axes>"
            ],
            "image/png": "[encoded data removed]"
          },
          "metadata": {}
        }
      ]
    },
    {
      "cell_type": "code",
      "source": [
        "#21. Use seaborn to create a correlation matrix for a dataset.\n",
        "import seaborn as sns\n",
        "import matplotlib.pyplot as plt\n",
        "import pandas as pd\n",
        "data = pd.DataFrame({'Student_ID': range(1, 31),\n",
        "                     'Marks': np.random.randint(40, 100, 30)})\n",
        "matrix = data.corr()\n",
        "sns.heatmap(matrix, annot=True, cmap='cool')\n",
        "plt.title('Correlation Matrix')\n",
        "plt.show()"
      ],
      "metadata": {
        "colab": {
          "base_uri": "https://localhost:8080/",
          "height": 452
        },
        "id": "D89ZD6wchs5a",
        "outputId": "f98f1e13-5ec1-4ec7-9719-a02eb59eeff3"
      },
      "execution_count": 13,
      "outputs": [
        {
          "output_type": "display_data",
          "data": {
            "text/plain": [
              "<Figure size 640x480 with 2 Axes>"
            ],
            "image/png": "[encoded data removed]"
          },
          "metadata": {}
        }
      ]
    },
    {
      "cell_type": "code",
      "source": [
        "#22. Generate a dataset and implement both variance and standard deviation computations.\n",
        "import statistics as stat\n",
        "data = pd.DataFrame({'Student_ID': range(1, 31),\n",
        "                     'Marks': np.random.randint(40, 100, 30)})\n",
        "variance = data['Marks'].var()\n",
        "std_dev = data['Marks'].std()\n",
        "print(f\"Variance: {variance}\")\n",
        "print(f\"Standard Deviation: {std_dev}\")"
      ],
      "metadata": {
        "colab": {
          "base_uri": "https://localhost:8080/"
        },
        "id": "2L0VnaHXini9",
        "outputId": "f888c5dc-e54c-4991-a507-68376cd28143"
      },
      "execution_count": 14,
      "outputs": [
        {
          "output_type": "stream",
          "name": "stdout",
          "text": [
            "Variance: 263.5448275862069\n",
            "Standard Deviation: 16.234063803811015\n"
          ]
        }
      ]
    },
    {
      "cell_type": "code",
      "source": [
        "#23. Visualize skewness and kurtosis using Python libraries like matplotlib or seaborn.\n",
        "import numpy as np\n",
        "import matplotlib.pyplot as plt\n",
        "import pandas as pd\n",
        "from scipy.stats import skew, Kurtosis\n",
        "data = np.random.exponential(scale=2.0, size=1000)\n",
        "\n",
        "sk = skew(data)\n",
        "kt = kurtosis(data)\n",
        "\n",
        "plt.figure(figsize=(10, 6))\n",
        "sns.histplot(data, bins=30, kde=True, color='skyblue')\n",
        "plt.title(f\"Skewness: {sk:.2f} | Kurtosis: {kt:.2f}\")\n",
        "plt.xlabel(\"Value\")\n",
        "plt.ylabel(\"Frequency\")\n",
        "plt.grid(True)\n",
        "plt.show()"
      ],
      "metadata": {
        "colab": {
          "base_uri": "https://localhost:8080/",
          "height": 401
        },
        "id": "0jL4sEzHjKwx",
        "outputId": "a025a3af-8fea-4554-8a0e-7a38dc68464d"
      },
      "execution_count": 18,
      "outputs": [
        {
          "output_type": "error",
          "ename": "ImportError",
          "evalue": "cannot import name 'Kurtosis' from 'scipy.stats' (/usr/local/lib/python3.11/dist-packages/scipy/stats/__init__.py)",
          "traceback": [
            "\u001b[0;31m---------------------------------------------------------------------------\u001b[0m",
            "\u001b[0;31mImportError\u001b[0m                               Traceback (most recent call last)",
            "\u001b[0;32m<ipython-input-18-1e32da9c0007>\u001b[0m in \u001b[0;36m<cell line: 0>\u001b[0;34m()\u001b[0m\n\u001b[1;32m      3\u001b[0m \u001b[0;32mimport\u001b[0m \u001b[0mmatplotlib\u001b[0m\u001b[0;34m.\u001b[0m\u001b[0mpyplot\u001b[0m \u001b[0;32mas\u001b[0m \u001b[0mplt\u001b[0m\u001b[0;34m\u001b[0m\u001b[0;34m\u001b[0m\u001b[0m\n\u001b[1;32m      4\u001b[0m \u001b[0;32mimport\u001b[0m \u001b[0mpandas\u001b[0m \u001b[0;32mas\u001b[0m \u001b[0mpd\u001b[0m\u001b[0;34m\u001b[0m\u001b[0;34m\u001b[0m\u001b[0m\n\u001b[0;32m----> 5\u001b[0;31m \u001b[0;32mfrom\u001b[0m \u001b[0mscipy\u001b[0m\u001b[0;34m.\u001b[0m\u001b[0mstats\u001b[0m \u001b[0;32mimport\u001b[0m \u001b[0mskew\u001b[0m\u001b[0;34m,\u001b[0m \u001b[0mKurtosis\u001b[0m\u001b[0;34m\u001b[0m\u001b[0;34m\u001b[0m\u001b[0m\n\u001b[0m\u001b[1;32m      6\u001b[0m \u001b[0mdata\u001b[0m \u001b[0;34m=\u001b[0m \u001b[0mnp\u001b[0m\u001b[0;34m.\u001b[0m\u001b[0mrandom\u001b[0m\u001b[0;34m.\u001b[0m\u001b[0mexponential\u001b[0m\u001b[0;34m(\u001b[0m\u001b[0mscale\u001b[0m\u001b[0;34m=\u001b[0m\u001b[0;36m2.0\u001b[0m\u001b[0;34m,\u001b[0m \u001b[0msize\u001b[0m\u001b[0;34m=\u001b[0m\u001b[0;36m1000\u001b[0m\u001b[0;34m)\u001b[0m\u001b[0;34m\u001b[0m\u001b[0;34m\u001b[0m\u001b[0m\n\u001b[1;32m      7\u001b[0m \u001b[0;34m\u001b[0m\u001b[0m\n",
            "\u001b[0;31mImportError\u001b[0m: cannot import name 'Kurtosis' from 'scipy.stats' (/usr/local/lib/python3.11/dist-packages/scipy/stats/__init__.py)",
            "",
            "\u001b[0;31m---------------------------------------------------------------------------\u001b[0;32m\nNOTE: If your import is failing due to a missing package, you can\nmanually install dependencies using either !pip or !apt.\n\nTo view examples of installing some common dependencies, click the\n\"Open Examples\" button below.\n\u001b[0;31m---------------------------------------------------------------------------\u001b[0m\n"
          ],
          "errorDetails": {
            "actions": [
              {
                "action": "open_url",
                "actionText": "Open Examples",
                "url": "/notebooks/snippets/importing_libraries.ipynb"
              }
            ]
          }
        }
      ]
    },
    {
      "cell_type": "code",
      "source": [
        "#24. Implement the Pearson and Spearman correlation coefficients for a dataset.\n",
        "import statistics as stat\n",
        "import numpy as np\n",
        "import pandas as pd\n",
        "data = pd.DataFrame({'Student_ID': range(1, 31),\n",
        "                     'Marks': np.random.randint(40, 100, 30)})\n",
        "pearson_corr = data['Marks'].corr(data['Student_ID'])\n",
        "spearman_corr = data['Marks'].corr(data['Student_ID'], method='spearman')\n",
        "print(f\"Pearson Correlation: {pearson_corr}\")\n",
        "print(f\"Spearman Correlation: {spearman_corr}\")\n"
      ],
      "metadata": {
        "colab": {
          "base_uri": "https://localhost:8080/"
        },
        "id": "V45aJ7PWkjJs",
        "outputId": "34c7be60-3fdc-443a-af13-57d5b6ecf869"
      },
      "execution_count": 1,
      "outputs": [
        {
          "output_type": "stream",
          "name": "stdout",
          "text": [
            "Pearson Correlation: 0.17588783173215433\n",
            "Spearman Correlation: 0.1654052016250662\n"
          ]
        }
      ]
    },
    {
      "cell_type": "code",
      "source": [],
      "metadata": {
        "id": "5IqxMq3j22vp"
      },
      "execution_count": null,
      "outputs": []
    }
  ]
}